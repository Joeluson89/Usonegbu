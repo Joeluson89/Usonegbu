{
    "cells": [
        {
            "metadata": {},
            "cell_type": "code",
            "source": "import pandas as pd\nimport numpy as np\nimport matplotlib.pyplot as plt\nimport seaborn as sns\nimport datetime as dt",
            "execution_count": 28,
            "outputs": []
        },
        {
            "metadata": {},
            "cell_type": "code",
            "source": "\nimport types\nimport pandas as pd\nfrom botocore.client import Config\nimport ibm_boto3\n\ndef __iter__(self): return 0\n\n# @hidden_cell\n# The following code accesses a file in your IBM Cloud Object Storage. It includes your credentials.\n# You might want to remove those credentials before you share the notebook.\nclient_1217b4cfecb64d5692a1f3dbf739ae1c = ibm_boto3.client(service_name='s3',\n    ibm_api_key_id='huOZzRRC39svrVdGdhYjXJjVX_89DvZGKYvOZ9iUFFT8',\n    ibm_auth_endpoint=\"https://iam.eu-gb.bluemix.net/oidc/token\",\n    config=Config(signature_version='oauth'),\n    endpoint_url='https://s3.eu-geo.objectstorage.service.networklayer.com')\n\nbody = client_1217b4cfecb64d5692a1f3dbf739ae1c.get_object(Bucket='abc-donotdelete-pr-mogsbstxe6vszh',Key='Online Retail.xlsx')['Body']\n# add missing __iter__ method, so pandas accepts body as file-like object\nif not hasattr(body, \"__iter__\"): body.__iter__ = types.MethodType( __iter__, body )\n\ndf_data_0 = pd.read_excel(body)\ndata = df_data_0\ndata.head(10)\n",
            "execution_count": 8,
            "outputs": [
                {
                    "output_type": "execute_result",
                    "execution_count": 8,
                    "data": {
                        "text/plain": "  InvoiceNo StockCode                          Description  Quantity  \\\n0    536365    85123A   WHITE HANGING HEART T-LIGHT HOLDER         6   \n1    536365     71053                  WHITE METAL LANTERN         6   \n2    536365    84406B       CREAM CUPID HEARTS COAT HANGER         8   \n3    536365    84029G  KNITTED UNION FLAG HOT WATER BOTTLE         6   \n4    536365    84029E       RED WOOLLY HOTTIE WHITE HEART.         6   \n5    536365     22752         SET 7 BABUSHKA NESTING BOXES         2   \n6    536365     21730    GLASS STAR FROSTED T-LIGHT HOLDER         6   \n7    536366     22633               HAND WARMER UNION JACK         6   \n8    536366     22632            HAND WARMER RED POLKA DOT         6   \n9    536367     84879        ASSORTED COLOUR BIRD ORNAMENT        32   \n\n          InvoiceDate  UnitPrice  CustomerID         Country  \n0 2010-12-01 08:26:00       2.55     17850.0  United Kingdom  \n1 2010-12-01 08:26:00       3.39     17850.0  United Kingdom  \n2 2010-12-01 08:26:00       2.75     17850.0  United Kingdom  \n3 2010-12-01 08:26:00       3.39     17850.0  United Kingdom  \n4 2010-12-01 08:26:00       3.39     17850.0  United Kingdom  \n5 2010-12-01 08:26:00       7.65     17850.0  United Kingdom  \n6 2010-12-01 08:26:00       4.25     17850.0  United Kingdom  \n7 2010-12-01 08:28:00       1.85     17850.0  United Kingdom  \n8 2010-12-01 08:28:00       1.85     17850.0  United Kingdom  \n9 2010-12-01 08:34:00       1.69     13047.0  United Kingdom  ",
                        "text/html": "<div>\n<style scoped>\n    .dataframe tbody tr th:only-of-type {\n        vertical-align: middle;\n    }\n\n    .dataframe tbody tr th {\n        vertical-align: top;\n    }\n\n    .dataframe thead th {\n        text-align: right;\n    }\n</style>\n<table border=\"1\" class=\"dataframe\">\n  <thead>\n    <tr style=\"text-align: right;\">\n      <th></th>\n      <th>InvoiceNo</th>\n      <th>StockCode</th>\n      <th>Description</th>\n      <th>Quantity</th>\n      <th>InvoiceDate</th>\n      <th>UnitPrice</th>\n      <th>CustomerID</th>\n      <th>Country</th>\n    </tr>\n  </thead>\n  <tbody>\n    <tr>\n      <th>0</th>\n      <td>536365</td>\n      <td>85123A</td>\n      <td>WHITE HANGING HEART T-LIGHT HOLDER</td>\n      <td>6</td>\n      <td>2010-12-01 08:26:00</td>\n      <td>2.55</td>\n      <td>17850.0</td>\n      <td>United Kingdom</td>\n    </tr>\n    <tr>\n      <th>1</th>\n      <td>536365</td>\n      <td>71053</td>\n      <td>WHITE METAL LANTERN</td>\n      <td>6</td>\n      <td>2010-12-01 08:26:00</td>\n      <td>3.39</td>\n      <td>17850.0</td>\n      <td>United Kingdom</td>\n    </tr>\n    <tr>\n      <th>2</th>\n      <td>536365</td>\n      <td>84406B</td>\n      <td>CREAM CUPID HEARTS COAT HANGER</td>\n      <td>8</td>\n      <td>2010-12-01 08:26:00</td>\n      <td>2.75</td>\n      <td>17850.0</td>\n      <td>United Kingdom</td>\n    </tr>\n    <tr>\n      <th>3</th>\n      <td>536365</td>\n      <td>84029G</td>\n      <td>KNITTED UNION FLAG HOT WATER BOTTLE</td>\n      <td>6</td>\n      <td>2010-12-01 08:26:00</td>\n      <td>3.39</td>\n      <td>17850.0</td>\n      <td>United Kingdom</td>\n    </tr>\n    <tr>\n      <th>4</th>\n      <td>536365</td>\n      <td>84029E</td>\n      <td>RED WOOLLY HOTTIE WHITE HEART.</td>\n      <td>6</td>\n      <td>2010-12-01 08:26:00</td>\n      <td>3.39</td>\n      <td>17850.0</td>\n      <td>United Kingdom</td>\n    </tr>\n    <tr>\n      <th>5</th>\n      <td>536365</td>\n      <td>22752</td>\n      <td>SET 7 BABUSHKA NESTING BOXES</td>\n      <td>2</td>\n      <td>2010-12-01 08:26:00</td>\n      <td>7.65</td>\n      <td>17850.0</td>\n      <td>United Kingdom</td>\n    </tr>\n    <tr>\n      <th>6</th>\n      <td>536365</td>\n      <td>21730</td>\n      <td>GLASS STAR FROSTED T-LIGHT HOLDER</td>\n      <td>6</td>\n      <td>2010-12-01 08:26:00</td>\n      <td>4.25</td>\n      <td>17850.0</td>\n      <td>United Kingdom</td>\n    </tr>\n    <tr>\n      <th>7</th>\n      <td>536366</td>\n      <td>22633</td>\n      <td>HAND WARMER UNION JACK</td>\n      <td>6</td>\n      <td>2010-12-01 08:28:00</td>\n      <td>1.85</td>\n      <td>17850.0</td>\n      <td>United Kingdom</td>\n    </tr>\n    <tr>\n      <th>8</th>\n      <td>536366</td>\n      <td>22632</td>\n      <td>HAND WARMER RED POLKA DOT</td>\n      <td>6</td>\n      <td>2010-12-01 08:28:00</td>\n      <td>1.85</td>\n      <td>17850.0</td>\n      <td>United Kingdom</td>\n    </tr>\n    <tr>\n      <th>9</th>\n      <td>536367</td>\n      <td>84879</td>\n      <td>ASSORTED COLOUR BIRD ORNAMENT</td>\n      <td>32</td>\n      <td>2010-12-01 08:34:00</td>\n      <td>1.69</td>\n      <td>13047.0</td>\n      <td>United Kingdom</td>\n    </tr>\n  </tbody>\n</table>\n</div>"
                    },
                    "metadata": {}
                }
            ]
        },
        {
            "metadata": {},
            "cell_type": "code",
            "source": "filtered_data = data[['Country','CustomerID']].drop_duplicates()",
            "execution_count": 9,
            "outputs": []
        },
        {
            "metadata": {},
            "cell_type": "code",
            "source": "filtered_data.Country.value_counts()[:10].plot(kind='bar')",
            "execution_count": 14,
            "outputs": [
                {
                    "output_type": "execute_result",
                    "execution_count": 14,
                    "data": {
                        "text/plain": "<matplotlib.axes._subplots.AxesSubplot at 0x7f42b3c3d898>"
                    },
                    "metadata": {}
                },
                {
                    "output_type": "display_data",
                    "data": {
                        "text/plain": "<Figure size 432x288 with 1 Axes>",
                        "image/png": "[encoded data removed]"
                    },
                    "metadata": {
                        "needs_background": "light"
                    }
                }
            ]
        },
        {
            "metadata": {},
            "cell_type": "code",
            "source": "uk_data = data[data.Country=='United Kingdom']\nuk_data.info()",
            "execution_count": 15,
            "outputs": [
                {
                    "output_type": "stream",
                    "text": "<class 'pandas.core.frame.DataFrame'>\nInt64Index: 495478 entries, 0 to 541893\nData columns (total 8 columns):\nInvoiceNo      495478 non-null object\nStockCode      495478 non-null object\nDescription    494024 non-null object\nQuantity       495478 non-null int64\nInvoiceDate    495478 non-null datetime64[ns]\nUnitPrice      495478 non-null float64\nCustomerID     361878 non-null float64\nCountry        495478 non-null object\ndtypes: datetime64[ns](1), float64(2), int64(1), object(4)\nmemory usage: 34.0+ MB\n",
                    "name": "stdout"
                }
            ]
        },
        {
            "metadata": {},
            "cell_type": "code",
            "source": "uk_data.describe()",
            "execution_count": 20,
            "outputs": [
                {
                    "output_type": "execute_result",
                    "execution_count": 20,
                    "data": {
                        "text/plain": "            Quantity      UnitPrice     CustomerID\ncount  495478.000000  495478.000000  361878.000000\nmean        8.605486       4.532422   15547.871368\nstd       227.588756      99.315438    1594.402590\nmin    -80995.000000  -11062.060000   12346.000000\n25%         1.000000       1.250000   14194.000000\n50%         3.000000       2.100000   15514.000000\n75%        10.000000       4.130000   16931.000000\nmax     80995.000000   38970.000000   18287.000000",
                        "text/html": "<div>\n<style scoped>\n    .dataframe tbody tr th:only-of-type {\n        vertical-align: middle;\n    }\n\n    .dataframe tbody tr th {\n        vertical-align: top;\n    }\n\n    .dataframe thead th {\n        text-align: right;\n    }\n</style>\n<table border=\"1\" class=\"dataframe\">\n  <thead>\n    <tr style=\"text-align: right;\">\n      <th></th>\n      <th>Quantity</th>\n      <th>UnitPrice</th>\n      <th>CustomerID</th>\n    </tr>\n  </thead>\n  <tbody>\n    <tr>\n      <th>count</th>\n      <td>495478.000000</td>\n      <td>495478.000000</td>\n      <td>361878.000000</td>\n    </tr>\n    <tr>\n      <th>mean</th>\n      <td>8.605486</td>\n      <td>4.532422</td>\n      <td>15547.871368</td>\n    </tr>\n    <tr>\n      <th>std</th>\n      <td>227.588756</td>\n      <td>99.315438</td>\n      <td>1594.402590</td>\n    </tr>\n    <tr>\n      <th>min</th>\n      <td>-80995.000000</td>\n      <td>-11062.060000</td>\n      <td>12346.000000</td>\n    </tr>\n    <tr>\n      <th>25%</th>\n      <td>1.000000</td>\n      <td>1.250000</td>\n      <td>14194.000000</td>\n    </tr>\n    <tr>\n      <th>50%</th>\n      <td>3.000000</td>\n      <td>2.100000</td>\n      <td>15514.000000</td>\n    </tr>\n    <tr>\n      <th>75%</th>\n      <td>10.000000</td>\n      <td>4.130000</td>\n      <td>16931.000000</td>\n    </tr>\n    <tr>\n      <th>max</th>\n      <td>80995.000000</td>\n      <td>38970.000000</td>\n      <td>18287.000000</td>\n    </tr>\n  </tbody>\n</table>\n</div>"
                    },
                    "metadata": {}
                }
            ]
        },
        {
            "metadata": {},
            "cell_type": "code",
            "source": "#filter quantities greater than zero\nuk_data = uk_data[(uk_data['Quantity']>0)]\nuk_data.info()",
            "execution_count": 33,
            "outputs": [
                {
                    "output_type": "stream",
                    "text": "<class 'pandas.core.frame.DataFrame'>\nInt64Index: 486286 entries, 0 to 541893\nData columns (total 6 columns):\nCustomerID        354345 non-null float64\nQuantity          486286 non-null int64\nUnitPrice         486286 non-null float64\nInvoiceDate       486286 non-null datetime64[ns]\nInvoiceNo         486286 non-null object\nTotal Purchase    486286 non-null float64\ndtypes: datetime64[ns](1), float64(3), int64(1), object(1)\nmemory usage: 26.0+ MB\n",
                    "name": "stdout"
                }
            ]
        },
        {
            "metadata": {},
            "cell_type": "code",
            "source": "#filter out the needed columns\nuk_data = uk_data[['CustomerID','Quantity','UnitPrice','InvoiceDate','InvoiceNo']]",
            "execution_count": 26,
            "outputs": []
        },
        {
            "metadata": {},
            "cell_type": "code",
            "source": "#Calculate  total purchase\nuk_data['TotalPurchase'] = uk_data['Quantity'] * uk_data['UnitPrice']",
            "execution_count": 40,
            "outputs": []
        },
        {
            "metadata": {},
            "cell_type": "code",
            "source": "#Calculating the Number of days, Transactions< Units and Money Spent.\nuk_data_group=uk_data.groupby('CustomerID').agg({'InvoiceDate': lambda date: (date.max() - date.min()).days,\n                                        'InvoiceNo': lambda num: len(num),\n                                        'Quantity': lambda quant: quant.sum(),\n                                        'TotalPurchase': lambda price: price.sum()})",
            "execution_count": 41,
            "outputs": []
        },
        {
            "metadata": {},
            "cell_type": "code",
            "source": "uk_data_group.head()",
            "execution_count": 42,
            "outputs": [
                {
                    "output_type": "execute_result",
                    "execution_count": 42,
                    "data": {
                        "text/plain": "            InvoiceDate  InvoiceNo  Quantity  TotalPurchase\nCustomerID                                                 \n12346.0               0          1     74215       77183.60\n12747.0             366        103      1275        4196.01\n12748.0             372       4596     25748       33719.73\n12749.0             209        199      1471        4090.88\n12820.0             323         59       722         942.34",
                        "text/html": "<div>\n<style scoped>\n    .dataframe tbody tr th:only-of-type {\n        vertical-align: middle;\n    }\n\n    .dataframe tbody tr th {\n        vertical-align: top;\n    }\n\n    .dataframe thead th {\n        text-align: right;\n    }\n</style>\n<table border=\"1\" class=\"dataframe\">\n  <thead>\n    <tr style=\"text-align: right;\">\n      <th></th>\n      <th>InvoiceDate</th>\n      <th>InvoiceNo</th>\n      <th>Quantity</th>\n      <th>TotalPurchase</th>\n    </tr>\n    <tr>\n      <th>CustomerID</th>\n      <th></th>\n      <th></th>\n      <th></th>\n      <th></th>\n    </tr>\n  </thead>\n  <tbody>\n    <tr>\n      <th>12346.0</th>\n      <td>0</td>\n      <td>1</td>\n      <td>74215</td>\n      <td>77183.60</td>\n    </tr>\n    <tr>\n      <th>12747.0</th>\n      <td>366</td>\n      <td>103</td>\n      <td>1275</td>\n      <td>4196.01</td>\n    </tr>\n    <tr>\n      <th>12748.0</th>\n      <td>372</td>\n      <td>4596</td>\n      <td>25748</td>\n      <td>33719.73</td>\n    </tr>\n    <tr>\n      <th>12749.0</th>\n      <td>209</td>\n      <td>199</td>\n      <td>1471</td>\n      <td>4090.88</td>\n    </tr>\n    <tr>\n      <th>12820.0</th>\n      <td>323</td>\n      <td>59</td>\n      <td>722</td>\n      <td>942.34</td>\n    </tr>\n  </tbody>\n</table>\n</div>"
                    },
                    "metadata": {}
                }
            ]
        },
        {
            "metadata": {},
            "cell_type": "code",
            "source": "#Changing names of Columns\nuk_data_group.columns = ['num_days','num_transactions','num_units','spent_money']\nuk_data_group.head()",
            "execution_count": 46,
            "outputs": [
                {
                    "output_type": "execute_result",
                    "execution_count": 46,
                    "data": {
                        "text/plain": "            num_days  num_transactions  num_units  spent_money\nCustomerID                                                    \n12346.0            0                 1      74215     77183.60\n12747.0          366               103       1275      4196.01\n12748.0          372              4596      25748     33719.73\n12749.0          209               199       1471      4090.88\n12820.0          323                59        722       942.34",
                        "text/html": "<div>\n<style scoped>\n    .dataframe tbody tr th:only-of-type {\n        vertical-align: middle;\n    }\n\n    .dataframe tbody tr th {\n        vertical-align: top;\n    }\n\n    .dataframe thead th {\n        text-align: right;\n    }\n</style>\n<table border=\"1\" class=\"dataframe\">\n  <thead>\n    <tr style=\"text-align: right;\">\n      <th></th>\n      <th>num_days</th>\n      <th>num_transactions</th>\n      <th>num_units</th>\n      <th>spent_money</th>\n    </tr>\n    <tr>\n      <th>CustomerID</th>\n      <th></th>\n      <th></th>\n      <th></th>\n      <th></th>\n    </tr>\n  </thead>\n  <tbody>\n    <tr>\n      <th>12346.0</th>\n      <td>0</td>\n      <td>1</td>\n      <td>74215</td>\n      <td>77183.60</td>\n    </tr>\n    <tr>\n      <th>12747.0</th>\n      <td>366</td>\n      <td>103</td>\n      <td>1275</td>\n      <td>4196.01</td>\n    </tr>\n    <tr>\n      <th>12748.0</th>\n      <td>372</td>\n      <td>4596</td>\n      <td>25748</td>\n      <td>33719.73</td>\n    </tr>\n    <tr>\n      <th>12749.0</th>\n      <td>209</td>\n      <td>199</td>\n      <td>1471</td>\n      <td>4090.88</td>\n    </tr>\n    <tr>\n      <th>12820.0</th>\n      <td>323</td>\n      <td>59</td>\n      <td>722</td>\n      <td>942.34</td>\n    </tr>\n  </tbody>\n</table>\n</div>"
                    },
                    "metadata": {}
                }
            ]
        },
        {
            "metadata": {},
            "cell_type": "code",
            "source": "#CLTV = ((Average Order Value x Purchase Frequency)/Churn Rate) x Profit margin.\n#Customer Value = Average Order Value * Purchase Frequency\n\n#To calculate Average order value\nuk_data_group['avg_order_value']=uk_data_group['spent_money']/uk_data_group['num_transactions']",
            "execution_count": 47,
            "outputs": []
        },
        {
            "metadata": {},
            "cell_type": "code",
            "source": "uk_data_group.head()",
            "execution_count": 48,
            "outputs": [
                {
                    "output_type": "execute_result",
                    "execution_count": 48,
                    "data": {
                        "text/plain": "            num_days  num_transactions  num_units  spent_money  \\\nCustomerID                                                       \n12346.0            0                 1      74215     77183.60   \n12747.0          366               103       1275      4196.01   \n12748.0          372              4596      25748     33719.73   \n12749.0          209               199       1471      4090.88   \n12820.0          323                59        722       942.34   \n\n            avg_order_value  \nCustomerID                   \n12346.0        77183.600000  \n12747.0           40.737961  \n12748.0            7.336756  \n12749.0           20.557186  \n12820.0           15.971864  ",
                        "text/html": "<div>\n<style scoped>\n    .dataframe tbody tr th:only-of-type {\n        vertical-align: middle;\n    }\n\n    .dataframe tbody tr th {\n        vertical-align: top;\n    }\n\n    .dataframe thead th {\n        text-align: right;\n    }\n</style>\n<table border=\"1\" class=\"dataframe\">\n  <thead>\n    <tr style=\"text-align: right;\">\n      <th></th>\n      <th>num_days</th>\n      <th>num_transactions</th>\n      <th>num_units</th>\n      <th>spent_money</th>\n      <th>avg_order_value</th>\n    </tr>\n    <tr>\n      <th>CustomerID</th>\n      <th></th>\n      <th></th>\n      <th></th>\n      <th></th>\n      <th></th>\n    </tr>\n  </thead>\n  <tbody>\n    <tr>\n      <th>12346.0</th>\n      <td>0</td>\n      <td>1</td>\n      <td>74215</td>\n      <td>77183.60</td>\n      <td>77183.600000</td>\n    </tr>\n    <tr>\n      <th>12747.0</th>\n      <td>366</td>\n      <td>103</td>\n      <td>1275</td>\n      <td>4196.01</td>\n      <td>40.737961</td>\n    </tr>\n    <tr>\n      <th>12748.0</th>\n      <td>372</td>\n      <td>4596</td>\n      <td>25748</td>\n      <td>33719.73</td>\n      <td>7.336756</td>\n    </tr>\n    <tr>\n      <th>12749.0</th>\n      <td>209</td>\n      <td>199</td>\n      <td>1471</td>\n      <td>4090.88</td>\n      <td>20.557186</td>\n    </tr>\n    <tr>\n      <th>12820.0</th>\n      <td>323</td>\n      <td>59</td>\n      <td>722</td>\n      <td>942.34</td>\n      <td>15.971864</td>\n    </tr>\n  </tbody>\n</table>\n</div>"
                    },
                    "metadata": {}
                }
            ]
        },
        {
            "metadata": {},
            "cell_type": "code",
            "source": "#Calculate Purchase Frequency\n\npurchase_frequency=sum(uk_data_group['num_transactions'])/uk_data_group.shape[0]",
            "execution_count": 49,
            "outputs": []
        },
        {
            "metadata": {},
            "cell_type": "code",
            "source": "#Calculate Repeat Rate\nrepeat_rate=uk_data_group[uk_data_group.num_transactions > 1].shape[0]/uk_data_group.shape[0]",
            "execution_count": 50,
            "outputs": []
        },
        {
            "metadata": {},
            "cell_type": "code",
            "source": "#Calculate Churn Rate\nchurn_rate=1-repeat_rate",
            "execution_count": 51,
            "outputs": []
        },
        {
            "metadata": {},
            "cell_type": "code",
            "source": "purchase_frequency,repeat_rate,churn_rate",
            "execution_count": 52,
            "outputs": [
                {
                    "output_type": "execute_result",
                    "execution_count": 52,
                    "data": {
                        "text/plain": "(90.37107880642694, 0.9818923743942872, 0.018107625605712774)"
                    },
                    "metadata": {}
                }
            ]
        },
        {
            "metadata": {},
            "cell_type": "code",
            "source": "# Calculate the Profit Margin\nuk_data_group['profit_margin']=uk_data_group['spent_money']*0.05",
            "execution_count": 53,
            "outputs": []
        },
        {
            "metadata": {},
            "cell_type": "code",
            "source": "uk_data_group.head()",
            "execution_count": 54,
            "outputs": [
                {
                    "output_type": "execute_result",
                    "execution_count": 54,
                    "data": {
                        "text/plain": "            num_days  num_transactions  num_units  spent_money  \\\nCustomerID                                                       \n12346.0            0                 1      74215     77183.60   \n12747.0          366               103       1275      4196.01   \n12748.0          372              4596      25748     33719.73   \n12749.0          209               199       1471      4090.88   \n12820.0          323                59        722       942.34   \n\n            avg_order_value  profit_margin  \nCustomerID                                  \n12346.0        77183.600000      3859.1800  \n12747.0           40.737961       209.8005  \n12748.0            7.336756      1685.9865  \n12749.0           20.557186       204.5440  \n12820.0           15.971864        47.1170  ",
                        "text/html": "<div>\n<style scoped>\n    .dataframe tbody tr th:only-of-type {\n        vertical-align: middle;\n    }\n\n    .dataframe tbody tr th {\n        vertical-align: top;\n    }\n\n    .dataframe thead th {\n        text-align: right;\n    }\n</style>\n<table border=\"1\" class=\"dataframe\">\n  <thead>\n    <tr style=\"text-align: right;\">\n      <th></th>\n      <th>num_days</th>\n      <th>num_transactions</th>\n      <th>num_units</th>\n      <th>spent_money</th>\n      <th>avg_order_value</th>\n      <th>profit_margin</th>\n    </tr>\n    <tr>\n      <th>CustomerID</th>\n      <th></th>\n      <th></th>\n      <th></th>\n      <th></th>\n      <th></th>\n      <th></th>\n    </tr>\n  </thead>\n  <tbody>\n    <tr>\n      <th>12346.0</th>\n      <td>0</td>\n      <td>1</td>\n      <td>74215</td>\n      <td>77183.60</td>\n      <td>77183.600000</td>\n      <td>3859.1800</td>\n    </tr>\n    <tr>\n      <th>12747.0</th>\n      <td>366</td>\n      <td>103</td>\n      <td>1275</td>\n      <td>4196.01</td>\n      <td>40.737961</td>\n      <td>209.8005</td>\n    </tr>\n    <tr>\n      <th>12748.0</th>\n      <td>372</td>\n      <td>4596</td>\n      <td>25748</td>\n      <td>33719.73</td>\n      <td>7.336756</td>\n      <td>1685.9865</td>\n    </tr>\n    <tr>\n      <th>12749.0</th>\n      <td>209</td>\n      <td>199</td>\n      <td>1471</td>\n      <td>4090.88</td>\n      <td>20.557186</td>\n      <td>204.5440</td>\n    </tr>\n    <tr>\n      <th>12820.0</th>\n      <td>323</td>\n      <td>59</td>\n      <td>722</td>\n      <td>942.34</td>\n      <td>15.971864</td>\n      <td>47.1170</td>\n    </tr>\n  </tbody>\n</table>\n</div>"
                    },
                    "metadata": {}
                }
            ]
        },
        {
            "metadata": {},
            "cell_type": "code",
            "source": "# Customer Value\nuk_data_group['CLV']=(uk_data_group['avg_order_value']*purchase_frequency)/churn_rate",
            "execution_count": 55,
            "outputs": []
        },
        {
            "metadata": {},
            "cell_type": "code",
            "source": "#Customer Lifetime Value\nuk_data_group['cust_lifetime_value']=uk_data_group['CLV']*uk_data_group['profit_margin']",
            "execution_count": 56,
            "outputs": []
        },
        {
            "metadata": {},
            "cell_type": "code",
            "source": "uk_data_group.head()",
            "execution_count": 57,
            "outputs": [
                {
                    "output_type": "execute_result",
                    "execution_count": 57,
                    "data": {
                        "text/plain": "            num_days  num_transactions  num_units  spent_money  \\\nCustomerID                                                       \n12346.0            0                 1      74215     77183.60   \n12747.0          366               103       1275      4196.01   \n12748.0          372              4596      25748     33719.73   \n12749.0          209               199       1471      4090.88   \n12820.0          323                59        722       942.34   \n\n            avg_order_value  profit_margin           CLV  cust_lifetime_value  \nCustomerID                                                                     \n12346.0        77183.600000      3859.1800  3.852060e+08         1.486579e+12  \n12747.0           40.737961       209.8005  2.033140e+05         4.265538e+07  \n12748.0            7.336756      1685.9865  3.661610e+04         6.173424e+07  \n12749.0           20.557186       204.5440  1.025963e+05         2.098545e+07  \n12820.0           15.971864        47.1170  7.971198e+04         3.755789e+06  ",
                        "text/html": "<div>\n<style scoped>\n    .dataframe tbody tr th:only-of-type {\n        vertical-align: middle;\n    }\n\n    .dataframe tbody tr th {\n        vertical-align: top;\n    }\n\n    .dataframe thead th {\n        text-align: right;\n    }\n</style>\n<table border=\"1\" class=\"dataframe\">\n  <thead>\n    <tr style=\"text-align: right;\">\n      <th></th>\n      <th>num_days</th>\n      <th>num_transactions</th>\n      <th>num_units</th>\n      <th>spent_money</th>\n      <th>avg_order_value</th>\n      <th>profit_margin</th>\n      <th>CLV</th>\n      <th>cust_lifetime_value</th>\n    </tr>\n    <tr>\n      <th>CustomerID</th>\n      <th></th>\n      <th></th>\n      <th></th>\n      <th></th>\n      <th></th>\n      <th></th>\n      <th></th>\n      <th></th>\n    </tr>\n  </thead>\n  <tbody>\n    <tr>\n      <th>12346.0</th>\n      <td>0</td>\n      <td>1</td>\n      <td>74215</td>\n      <td>77183.60</td>\n      <td>77183.600000</td>\n      <td>3859.1800</td>\n      <td>3.852060e+08</td>\n      <td>1.486579e+12</td>\n    </tr>\n    <tr>\n      <th>12747.0</th>\n      <td>366</td>\n      <td>103</td>\n      <td>1275</td>\n      <td>4196.01</td>\n      <td>40.737961</td>\n      <td>209.8005</td>\n      <td>2.033140e+05</td>\n      <td>4.265538e+07</td>\n    </tr>\n    <tr>\n      <th>12748.0</th>\n      <td>372</td>\n      <td>4596</td>\n      <td>25748</td>\n      <td>33719.73</td>\n      <td>7.336756</td>\n      <td>1685.9865</td>\n      <td>3.661610e+04</td>\n      <td>6.173424e+07</td>\n    </tr>\n    <tr>\n      <th>12749.0</th>\n      <td>209</td>\n      <td>199</td>\n      <td>1471</td>\n      <td>4090.88</td>\n      <td>20.557186</td>\n      <td>204.5440</td>\n      <td>1.025963e+05</td>\n      <td>2.098545e+07</td>\n    </tr>\n    <tr>\n      <th>12820.0</th>\n      <td>323</td>\n      <td>59</td>\n      <td>722</td>\n      <td>942.34</td>\n      <td>15.971864</td>\n      <td>47.1170</td>\n      <td>7.971198e+04</td>\n      <td>3.755789e+06</td>\n    </tr>\n  </tbody>\n</table>\n</div>"
                    },
                    "metadata": {}
                }
            ]
        },
        {
            "metadata": {},
            "cell_type": "code",
            "source": "#Prediction Model for CLTV\n#Let's build the CLTV prediction model.\nuk_data.head()",
            "execution_count": 58,
            "outputs": [
                {
                    "output_type": "execute_result",
                    "execution_count": 58,
                    "data": {
                        "text/plain": "   CustomerID  Quantity  UnitPrice         InvoiceDate InvoiceNo  \\\n0     17850.0         6       2.55 2010-12-01 08:26:00    536365   \n1     17850.0         6       3.39 2010-12-01 08:26:00    536365   \n2     17850.0         8       2.75 2010-12-01 08:26:00    536365   \n3     17850.0         6       3.39 2010-12-01 08:26:00    536365   \n4     17850.0         6       3.39 2010-12-01 08:26:00    536365   \n\n   Total Purchase  TotalPurchase  \n0           15.30          15.30  \n1           20.34          20.34  \n2           22.00          22.00  \n3           20.34          20.34  \n4           20.34          20.34  ",
                        "text/html": "<div>\n<style scoped>\n    .dataframe tbody tr th:only-of-type {\n        vertical-align: middle;\n    }\n\n    .dataframe tbody tr th {\n        vertical-align: top;\n    }\n\n    .dataframe thead th {\n        text-align: right;\n    }\n</style>\n<table border=\"1\" class=\"dataframe\">\n  <thead>\n    <tr style=\"text-align: right;\">\n      <th></th>\n      <th>CustomerID</th>\n      <th>Quantity</th>\n      <th>UnitPrice</th>\n      <th>InvoiceDate</th>\n      <th>InvoiceNo</th>\n      <th>Total Purchase</th>\n      <th>TotalPurchase</th>\n    </tr>\n  </thead>\n  <tbody>\n    <tr>\n      <th>0</th>\n      <td>17850.0</td>\n      <td>6</td>\n      <td>2.55</td>\n      <td>2010-12-01 08:26:00</td>\n      <td>536365</td>\n      <td>15.30</td>\n      <td>15.30</td>\n    </tr>\n    <tr>\n      <th>1</th>\n      <td>17850.0</td>\n      <td>6</td>\n      <td>3.39</td>\n      <td>2010-12-01 08:26:00</td>\n      <td>536365</td>\n      <td>20.34</td>\n      <td>20.34</td>\n    </tr>\n    <tr>\n      <th>2</th>\n      <td>17850.0</td>\n      <td>8</td>\n      <td>2.75</td>\n      <td>2010-12-01 08:26:00</td>\n      <td>536365</td>\n      <td>22.00</td>\n      <td>22.00</td>\n    </tr>\n    <tr>\n      <th>3</th>\n      <td>17850.0</td>\n      <td>6</td>\n      <td>3.39</td>\n      <td>2010-12-01 08:26:00</td>\n      <td>536365</td>\n      <td>20.34</td>\n      <td>20.34</td>\n    </tr>\n    <tr>\n      <th>4</th>\n      <td>17850.0</td>\n      <td>6</td>\n      <td>3.39</td>\n      <td>2010-12-01 08:26:00</td>\n      <td>536365</td>\n      <td>20.34</td>\n      <td>20.34</td>\n    </tr>\n  </tbody>\n</table>\n</div>"
                    },
                    "metadata": {}
                }
            ]
        },
        {
            "metadata": {},
            "cell_type": "code",
            "source": "#Extract month and year from InvoiceDate.\nuk_data['month_yr'] = uk_data['InvoiceDate'].apply(lambda x: x.strftime('%b-%Y'))",
            "execution_count": 59,
            "outputs": []
        },
        {
            "metadata": {},
            "cell_type": "code",
            "source": "uk_data.head()",
            "execution_count": 60,
            "outputs": [
                {
                    "output_type": "execute_result",
                    "execution_count": 60,
                    "data": {
                        "text/plain": "   CustomerID  Quantity  UnitPrice         InvoiceDate InvoiceNo  \\\n0     17850.0         6       2.55 2010-12-01 08:26:00    536365   \n1     17850.0         6       3.39 2010-12-01 08:26:00    536365   \n2     17850.0         8       2.75 2010-12-01 08:26:00    536365   \n3     17850.0         6       3.39 2010-12-01 08:26:00    536365   \n4     17850.0         6       3.39 2010-12-01 08:26:00    536365   \n\n   Total Purchase  TotalPurchase  month_yr  \n0           15.30          15.30  Dec-2010  \n1           20.34          20.34  Dec-2010  \n2           22.00          22.00  Dec-2010  \n3           20.34          20.34  Dec-2010  \n4           20.34          20.34  Dec-2010  ",
                        "text/html": "<div>\n<style scoped>\n    .dataframe tbody tr th:only-of-type {\n        vertical-align: middle;\n    }\n\n    .dataframe tbody tr th {\n        vertical-align: top;\n    }\n\n    .dataframe thead th {\n        text-align: right;\n    }\n</style>\n<table border=\"1\" class=\"dataframe\">\n  <thead>\n    <tr style=\"text-align: right;\">\n      <th></th>\n      <th>CustomerID</th>\n      <th>Quantity</th>\n      <th>UnitPrice</th>\n      <th>InvoiceDate</th>\n      <th>InvoiceNo</th>\n      <th>Total Purchase</th>\n      <th>TotalPurchase</th>\n      <th>month_yr</th>\n    </tr>\n  </thead>\n  <tbody>\n    <tr>\n      <th>0</th>\n      <td>17850.0</td>\n      <td>6</td>\n      <td>2.55</td>\n      <td>2010-12-01 08:26:00</td>\n      <td>536365</td>\n      <td>15.30</td>\n      <td>15.30</td>\n      <td>Dec-2010</td>\n    </tr>\n    <tr>\n      <th>1</th>\n      <td>17850.0</td>\n      <td>6</td>\n      <td>3.39</td>\n      <td>2010-12-01 08:26:00</td>\n      <td>536365</td>\n      <td>20.34</td>\n      <td>20.34</td>\n      <td>Dec-2010</td>\n    </tr>\n    <tr>\n      <th>2</th>\n      <td>17850.0</td>\n      <td>8</td>\n      <td>2.75</td>\n      <td>2010-12-01 08:26:00</td>\n      <td>536365</td>\n      <td>22.00</td>\n      <td>22.00</td>\n      <td>Dec-2010</td>\n    </tr>\n    <tr>\n      <th>3</th>\n      <td>17850.0</td>\n      <td>6</td>\n      <td>3.39</td>\n      <td>2010-12-01 08:26:00</td>\n      <td>536365</td>\n      <td>20.34</td>\n      <td>20.34</td>\n      <td>Dec-2010</td>\n    </tr>\n    <tr>\n      <th>4</th>\n      <td>17850.0</td>\n      <td>6</td>\n      <td>3.39</td>\n      <td>2010-12-01 08:26:00</td>\n      <td>536365</td>\n      <td>20.34</td>\n      <td>20.34</td>\n      <td>Dec-2010</td>\n    </tr>\n  </tbody>\n</table>\n</div>"
                    },
                    "metadata": {}
                }
            ]
        },
        {
            "metadata": {},
            "cell_type": "code",
            "source": "#The pivot table takes the columns as input, and groups the entries into a two-dimensional table in such a way that provides a multidimensional summarization of the data.\nsale=uk_data.pivot_table(index=['CustomerID'],columns=['month_yr'],values='TotalPurchase',aggfunc='sum',fill_value=0).reset_index()",
            "execution_count": 64,
            "outputs": []
        },
        {
            "metadata": {},
            "cell_type": "code",
            "source": "sale.head()",
            "execution_count": 65,
            "outputs": [
                {
                    "output_type": "execute_result",
                    "execution_count": 65,
                    "data": {
                        "text/plain": "month_yr  CustomerID  Apr-2011  Aug-2011  Dec-2010  Dec-2011  Feb-2011  \\\n0            12346.0      0.00      0.00      0.00      0.00      0.00   \n1            12747.0      0.00    301.70    706.27    438.50      0.00   \n2            12748.0   1100.37    898.24   4228.13   1070.27    389.64   \n3            12749.0      0.00   1896.13      0.00    763.06      0.00   \n4            12820.0      0.00      0.00      0.00    210.35      0.00   \n\nmonth_yr  Jan-2011  Jul-2011  Jun-2011  Mar-2011  May-2011  Nov-2011  \\\n0         77183.60      0.00      0.00      0.00      0.00      0.00   \n1           303.04      0.00    376.30    310.78    771.31    312.73   \n2           418.77   1113.27   2006.26   1179.37   2234.50  10639.23   \n3             0.00      0.00      0.00      0.00    859.10    572.59   \n4           170.46      0.00      0.00      0.00      0.00      0.00   \n\nmonth_yr  Oct-2011  Sep-2011  \n0             0.00      0.00  \n1           675.38      0.00  \n2          2292.84   6148.84  \n3             0.00      0.00  \n4           343.76    217.77  ",
                        "text/html": "<div>\n<style scoped>\n    .dataframe tbody tr th:only-of-type {\n        vertical-align: middle;\n    }\n\n    .dataframe tbody tr th {\n        vertical-align: top;\n    }\n\n    .dataframe thead th {\n        text-align: right;\n    }\n</style>\n<table border=\"1\" class=\"dataframe\">\n  <thead>\n    <tr style=\"text-align: right;\">\n      <th>month_yr</th>\n      <th>CustomerID</th>\n      <th>Apr-2011</th>\n      <th>Aug-2011</th>\n      <th>Dec-2010</th>\n      <th>Dec-2011</th>\n      <th>Feb-2011</th>\n      <th>Jan-2011</th>\n      <th>Jul-2011</th>\n      <th>Jun-2011</th>\n      <th>Mar-2011</th>\n      <th>May-2011</th>\n      <th>Nov-2011</th>\n      <th>Oct-2011</th>\n      <th>Sep-2011</th>\n    </tr>\n  </thead>\n  <tbody>\n    <tr>\n      <th>0</th>\n      <td>12346.0</td>\n      <td>0.00</td>\n      <td>0.00</td>\n      <td>0.00</td>\n      <td>0.00</td>\n      <td>0.00</td>\n      <td>77183.60</td>\n      <td>0.00</td>\n      <td>0.00</td>\n      <td>0.00</td>\n      <td>0.00</td>\n      <td>0.00</td>\n      <td>0.00</td>\n      <td>0.00</td>\n    </tr>\n    <tr>\n      <th>1</th>\n      <td>12747.0</td>\n      <td>0.00</td>\n      <td>301.70</td>\n      <td>706.27</td>\n      <td>438.50</td>\n      <td>0.00</td>\n      <td>303.04</td>\n      <td>0.00</td>\n      <td>376.30</td>\n      <td>310.78</td>\n      <td>771.31</td>\n      <td>312.73</td>\n      <td>675.38</td>\n      <td>0.00</td>\n    </tr>\n    <tr>\n      <th>2</th>\n      <td>12748.0</td>\n      <td>1100.37</td>\n      <td>898.24</td>\n      <td>4228.13</td>\n      <td>1070.27</td>\n      <td>389.64</td>\n      <td>418.77</td>\n      <td>1113.27</td>\n      <td>2006.26</td>\n      <td>1179.37</td>\n      <td>2234.50</td>\n      <td>10639.23</td>\n      <td>2292.84</td>\n      <td>6148.84</td>\n    </tr>\n    <tr>\n      <th>3</th>\n      <td>12749.0</td>\n      <td>0.00</td>\n      <td>1896.13</td>\n      <td>0.00</td>\n      <td>763.06</td>\n      <td>0.00</td>\n      <td>0.00</td>\n      <td>0.00</td>\n      <td>0.00</td>\n      <td>0.00</td>\n      <td>859.10</td>\n      <td>572.59</td>\n      <td>0.00</td>\n      <td>0.00</td>\n    </tr>\n    <tr>\n      <th>4</th>\n      <td>12820.0</td>\n      <td>0.00</td>\n      <td>0.00</td>\n      <td>0.00</td>\n      <td>210.35</td>\n      <td>0.00</td>\n      <td>170.46</td>\n      <td>0.00</td>\n      <td>0.00</td>\n      <td>0.00</td>\n      <td>0.00</td>\n      <td>0.00</td>\n      <td>343.76</td>\n      <td>217.77</td>\n    </tr>\n  </tbody>\n</table>\n</div>"
                    },
                    "metadata": {}
                }
            ]
        },
        {
            "metadata": {},
            "cell_type": "code",
            "source": "# sum all the months sales.\nsale['CLV']=sale.iloc[:,2:].sum(axis=1)",
            "execution_count": 66,
            "outputs": []
        },
        {
            "metadata": {},
            "cell_type": "code",
            "source": "sale.head()",
            "execution_count": 68,
            "outputs": [
                {
                    "output_type": "execute_result",
                    "execution_count": 68,
                    "data": {
                        "text/plain": "month_yr  CustomerID  Apr-2011  Aug-2011  Dec-2010  Dec-2011  Feb-2011  \\\n0            12346.0      0.00      0.00      0.00      0.00      0.00   \n1            12747.0      0.00    301.70    706.27    438.50      0.00   \n2            12748.0   1100.37    898.24   4228.13   1070.27    389.64   \n3            12749.0      0.00   1896.13      0.00    763.06      0.00   \n4            12820.0      0.00      0.00      0.00    210.35      0.00   \n\nmonth_yr  Jan-2011  Jul-2011  Jun-2011  Mar-2011  May-2011  Nov-2011  \\\n0         77183.60      0.00      0.00      0.00      0.00      0.00   \n1           303.04      0.00    376.30    310.78    771.31    312.73   \n2           418.77   1113.27   2006.26   1179.37   2234.50  10639.23   \n3             0.00      0.00      0.00      0.00    859.10    572.59   \n4           170.46      0.00      0.00      0.00      0.00      0.00   \n\nmonth_yr  Oct-2011  Sep-2011       CLV  \n0             0.00      0.00  77183.60  \n1           675.38      0.00   4196.01  \n2          2292.84   6148.84  32619.36  \n3             0.00      0.00   4090.88  \n4           343.76    217.77    942.34  ",
                        "text/html": "<div>\n<style scoped>\n    .dataframe tbody tr th:only-of-type {\n        vertical-align: middle;\n    }\n\n    .dataframe tbody tr th {\n        vertical-align: top;\n    }\n\n    .dataframe thead th {\n        text-align: right;\n    }\n</style>\n<table border=\"1\" class=\"dataframe\">\n  <thead>\n    <tr style=\"text-align: right;\">\n      <th>month_yr</th>\n      <th>CustomerID</th>\n      <th>Apr-2011</th>\n      <th>Aug-2011</th>\n      <th>Dec-2010</th>\n      <th>Dec-2011</th>\n      <th>Feb-2011</th>\n      <th>Jan-2011</th>\n      <th>Jul-2011</th>\n      <th>Jun-2011</th>\n      <th>Mar-2011</th>\n      <th>May-2011</th>\n      <th>Nov-2011</th>\n      <th>Oct-2011</th>\n      <th>Sep-2011</th>\n      <th>CLV</th>\n    </tr>\n  </thead>\n  <tbody>\n    <tr>\n      <th>0</th>\n      <td>12346.0</td>\n      <td>0.00</td>\n      <td>0.00</td>\n      <td>0.00</td>\n      <td>0.00</td>\n      <td>0.00</td>\n      <td>77183.60</td>\n      <td>0.00</td>\n      <td>0.00</td>\n      <td>0.00</td>\n      <td>0.00</td>\n      <td>0.00</td>\n      <td>0.00</td>\n      <td>0.00</td>\n      <td>77183.60</td>\n    </tr>\n    <tr>\n      <th>1</th>\n      <td>12747.0</td>\n      <td>0.00</td>\n      <td>301.70</td>\n      <td>706.27</td>\n      <td>438.50</td>\n      <td>0.00</td>\n      <td>303.04</td>\n      <td>0.00</td>\n      <td>376.30</td>\n      <td>310.78</td>\n      <td>771.31</td>\n      <td>312.73</td>\n      <td>675.38</td>\n      <td>0.00</td>\n      <td>4196.01</td>\n    </tr>\n    <tr>\n      <th>2</th>\n      <td>12748.0</td>\n      <td>1100.37</td>\n      <td>898.24</td>\n      <td>4228.13</td>\n      <td>1070.27</td>\n      <td>389.64</td>\n      <td>418.77</td>\n      <td>1113.27</td>\n      <td>2006.26</td>\n      <td>1179.37</td>\n      <td>2234.50</td>\n      <td>10639.23</td>\n      <td>2292.84</td>\n      <td>6148.84</td>\n      <td>32619.36</td>\n    </tr>\n    <tr>\n      <th>3</th>\n      <td>12749.0</td>\n      <td>0.00</td>\n      <td>1896.13</td>\n      <td>0.00</td>\n      <td>763.06</td>\n      <td>0.00</td>\n      <td>0.00</td>\n      <td>0.00</td>\n      <td>0.00</td>\n      <td>0.00</td>\n      <td>859.10</td>\n      <td>572.59</td>\n      <td>0.00</td>\n      <td>0.00</td>\n      <td>4090.88</td>\n    </tr>\n    <tr>\n      <th>4</th>\n      <td>12820.0</td>\n      <td>0.00</td>\n      <td>0.00</td>\n      <td>0.00</td>\n      <td>210.35</td>\n      <td>0.00</td>\n      <td>170.46</td>\n      <td>0.00</td>\n      <td>0.00</td>\n      <td>0.00</td>\n      <td>0.00</td>\n      <td>0.00</td>\n      <td>343.76</td>\n      <td>217.77</td>\n      <td>942.34</td>\n    </tr>\n  </tbody>\n</table>\n</div>"
                    },
                    "metadata": {}
                }
            ]
        },
        {
            "metadata": {},
            "cell_type": "code",
            "source": "#Selecting Feature\n#Select latest 6 month as independent variable.\n\nX=sale[['Dec-2011','Nov-2011', 'Oct-2011','Sep-2011','Aug-2011','Jul-2011']]\ny=sale[['CLV']]",
            "execution_count": 69,
            "outputs": []
        },
        {
            "metadata": {},
            "cell_type": "code",
            "source": "#split training set and test set\n\nfrom sklearn.model_selection import train_test_split\n\nX_train, X_test, y_train, y_test = train_test_split(X, y,random_state=0)",
            "execution_count": 74,
            "outputs": []
        },
        {
            "metadata": {},
            "cell_type": "code",
            "source": "#Model Development\n\n\n# import model\nfrom sklearn.linear_model import LinearRegression\n\n# instantiate\nlinreg = LinearRegression()\n\n# fit the model to the training data (learn the coefficients)\nlinreg.fit(X_train, y_train)\n\n# make predictions on the testing set\ny_pred = linreg.predict(X_test)",
            "execution_count": 76,
            "outputs": []
        },
        {
            "metadata": {},
            "cell_type": "code",
            "source": "# print the intercept and coefficients\nprint(linreg.intercept_)\nprint(linreg.coef_)",
            "execution_count": 77,
            "outputs": [
                {
                    "output_type": "stream",
                    "text": "[208.50969617]\n[[0.99880551 0.80381254 1.60226829 1.67433228 1.52860813 2.87959449]]\n",
                    "name": "stdout"
                }
            ]
        },
        {
            "metadata": {},
            "cell_type": "code",
            "source": "#How Well Does the Model Fit the data?\n\nfrom sklearn import metrics\n\n# compute the R Square for model\n\nprint(\"R-Square:\",metrics.r2_score(y_test, y_pred))",
            "execution_count": 78,
            "outputs": [
                {
                    "output_type": "stream",
                    "text": "R-Square: 0.9666074402817512\n",
                    "name": "stdout"
                }
            ]
        },
        {
            "metadata": {},
            "cell_type": "code",
            "source": "# Model Evaluation\n\n# calculate MAE(Mean Absolute Error) using scikit-learn\nprint(\"MAE:\",metrics.mean_absolute_error(y_test,y_pred))\n\n#calculate MSE(mean squared error)\nprint(\"MSE\",metrics.mean_squared_error(y_test, y_pred))\n\n# compute the RMSE(Root Mean Squared Error) of our predictions\nprint(\"RMSE:\",np.sqrt(metrics.mean_squared_error(y_test, y_pred)))",
            "execution_count": 79,
            "outputs": [
                {
                    "output_type": "stream",
                    "text": "MAE: 595.0282284701234\nMSE 2114139.8898678957\nRMSE: 1454.0082151995896\n",
                    "name": "stdout"
                }
            ]
        },
        {
            "metadata": {},
            "cell_type": "code",
            "source": "",
            "execution_count": null,
            "outputs": []
        }
    ],
    "metadata": {
        "kernelspec": {
            "name": "python3",
            "display_name": "Python 3.6",
            "language": "python"
        },
        "language_info": {
            "name": "python",
            "version": "3.6.8",
            "mimetype": "text/x-python",
            "codemirror_mode": {
                "name": "ipython",
                "version": 3
            },
            "pygments_lexer": "ipython3",
            "nbconvert_exporter": "python",
            "file_extension": ".py"
        }
    },
    "nbformat": 4,
    "nbformat_minor": 1
}